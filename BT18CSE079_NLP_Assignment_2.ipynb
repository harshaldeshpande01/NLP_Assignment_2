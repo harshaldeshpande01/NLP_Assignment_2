{
 "cells": [
  {
   "cell_type": "markdown",
   "metadata": {},
   "source": [
    "# NLP Assignment 2 \n",
    "- POS tagging using Viterbi Algorithm\n",
    "- Includes 2 implementations\n",
    "\n",
    "Conclusion\n",
    "- Standard viterbi algorithm accuracy ~ 0.8\n",
    "- Modified viterbi algorithm accuracy ~ 0.9\n",
    "\n",
    "## Harshal Deshpande - BT18CSE079"
   ]
  },
  {
   "cell_type": "code",
   "execution_count": 1,
   "metadata": {},
   "outputs": [],
   "source": [
    "# Importing necessary libraries\n",
    "\n",
    "import nltk\n",
    "import numpy as np \n",
    "import pandas as pd\n",
    "import random\n",
    "from sklearn.model_selection import train_test_split"
   ]
  },
  {
   "cell_type": "code",
   "execution_count": 2,
   "metadata": {},
   "outputs": [],
   "source": [
    "# Reading the Treebank tagged sentences corpus\n",
    "\n",
    "nltk_data = list(nltk.corpus.treebank.tagged_sents(tagset='universal'))\n",
    "nltk_data = nltk_data[:1000] # Using first 1000 sentences for reducing computation time"
   ]
  },
  {
   "cell_type": "code",
   "execution_count": 3,
   "metadata": {},
   "outputs": [
    {
     "data": {
      "text/plain": [
       "[[('Pierre', 'NOUN'),\n",
       "  ('Vinken', 'NOUN'),\n",
       "  (',', '.'),\n",
       "  ('61', 'NUM'),\n",
       "  ('years', 'NOUN'),\n",
       "  ('old', 'ADJ'),\n",
       "  (',', '.'),\n",
       "  ('will', 'VERB'),\n",
       "  ('join', 'VERB'),\n",
       "  ('the', 'DET'),\n",
       "  ('board', 'NOUN'),\n",
       "  ('as', 'ADP'),\n",
       "  ('a', 'DET'),\n",
       "  ('nonexecutive', 'ADJ'),\n",
       "  ('director', 'NOUN'),\n",
       "  ('Nov.', 'NOUN'),\n",
       "  ('29', 'NUM'),\n",
       "  ('.', '.')],\n",
       " [('Mr.', 'NOUN'),\n",
       "  ('Vinken', 'NOUN'),\n",
       "  ('is', 'VERB'),\n",
       "  ('chairman', 'NOUN'),\n",
       "  ('of', 'ADP'),\n",
       "  ('Elsevier', 'NOUN'),\n",
       "  ('N.V.', 'NOUN'),\n",
       "  (',', '.'),\n",
       "  ('the', 'DET'),\n",
       "  ('Dutch', 'NOUN'),\n",
       "  ('publishing', 'VERB'),\n",
       "  ('group', 'NOUN'),\n",
       "  ('.', '.')],\n",
       " [('Rudolph', 'NOUN'),\n",
       "  ('Agnew', 'NOUN'),\n",
       "  (',', '.'),\n",
       "  ('55', 'NUM'),\n",
       "  ('years', 'NOUN'),\n",
       "  ('old', 'ADJ'),\n",
       "  ('and', 'CONJ'),\n",
       "  ('former', 'ADJ'),\n",
       "  ('chairman', 'NOUN'),\n",
       "  ('of', 'ADP'),\n",
       "  ('Consolidated', 'NOUN'),\n",
       "  ('Gold', 'NOUN'),\n",
       "  ('Fields', 'NOUN'),\n",
       "  ('PLC', 'NOUN'),\n",
       "  (',', '.'),\n",
       "  ('was', 'VERB'),\n",
       "  ('named', 'VERB'),\n",
       "  ('*-1', 'X'),\n",
       "  ('a', 'DET'),\n",
       "  ('nonexecutive', 'ADJ'),\n",
       "  ('director', 'NOUN'),\n",
       "  ('of', 'ADP'),\n",
       "  ('this', 'DET'),\n",
       "  ('British', 'ADJ'),\n",
       "  ('industrial', 'ADJ'),\n",
       "  ('conglomerate', 'NOUN'),\n",
       "  ('.', '.')],\n",
       " [('A', 'DET'),\n",
       "  ('form', 'NOUN'),\n",
       "  ('of', 'ADP'),\n",
       "  ('asbestos', 'NOUN'),\n",
       "  ('once', 'ADV'),\n",
       "  ('used', 'VERB'),\n",
       "  ('*', 'X'),\n",
       "  ('*', 'X'),\n",
       "  ('to', 'PRT'),\n",
       "  ('make', 'VERB'),\n",
       "  ('Kent', 'NOUN'),\n",
       "  ('cigarette', 'NOUN'),\n",
       "  ('filters', 'NOUN'),\n",
       "  ('has', 'VERB'),\n",
       "  ('caused', 'VERB'),\n",
       "  ('a', 'DET'),\n",
       "  ('high', 'ADJ'),\n",
       "  ('percentage', 'NOUN'),\n",
       "  ('of', 'ADP'),\n",
       "  ('cancer', 'NOUN'),\n",
       "  ('deaths', 'NOUN'),\n",
       "  ('among', 'ADP'),\n",
       "  ('a', 'DET'),\n",
       "  ('group', 'NOUN'),\n",
       "  ('of', 'ADP'),\n",
       "  ('workers', 'NOUN'),\n",
       "  ('exposed', 'VERB'),\n",
       "  ('*', 'X'),\n",
       "  ('to', 'PRT'),\n",
       "  ('it', 'PRON'),\n",
       "  ('more', 'ADV'),\n",
       "  ('than', 'ADP'),\n",
       "  ('30', 'NUM'),\n",
       "  ('years', 'NOUN'),\n",
       "  ('ago', 'ADP'),\n",
       "  (',', '.'),\n",
       "  ('researchers', 'NOUN'),\n",
       "  ('reported', 'VERB'),\n",
       "  ('0', 'X'),\n",
       "  ('*T*-1', 'X'),\n",
       "  ('.', '.')],\n",
       " [('The', 'DET'),\n",
       "  ('asbestos', 'NOUN'),\n",
       "  ('fiber', 'NOUN'),\n",
       "  (',', '.'),\n",
       "  ('crocidolite', 'NOUN'),\n",
       "  (',', '.'),\n",
       "  ('is', 'VERB'),\n",
       "  ('unusually', 'ADV'),\n",
       "  ('resilient', 'ADJ'),\n",
       "  ('once', 'ADP'),\n",
       "  ('it', 'PRON'),\n",
       "  ('enters', 'VERB'),\n",
       "  ('the', 'DET'),\n",
       "  ('lungs', 'NOUN'),\n",
       "  (',', '.'),\n",
       "  ('with', 'ADP'),\n",
       "  ('even', 'ADV'),\n",
       "  ('brief', 'ADJ'),\n",
       "  ('exposures', 'NOUN'),\n",
       "  ('to', 'PRT'),\n",
       "  ('it', 'PRON'),\n",
       "  ('causing', 'VERB'),\n",
       "  ('symptoms', 'NOUN'),\n",
       "  ('that', 'DET'),\n",
       "  ('*T*-1', 'X'),\n",
       "  ('show', 'VERB'),\n",
       "  ('up', 'PRT'),\n",
       "  ('decades', 'NOUN'),\n",
       "  ('later', 'ADJ'),\n",
       "  (',', '.'),\n",
       "  ('researchers', 'NOUN'),\n",
       "  ('said', 'VERB'),\n",
       "  ('0', 'X'),\n",
       "  ('*T*-2', 'X'),\n",
       "  ('.', '.')]]"
      ]
     },
     "execution_count": 3,
     "metadata": {},
     "output_type": "execute_result"
    }
   ],
   "source": [
    "# Print data for analysis\n",
    "nltk_data[:5]"
   ]
  },
  {
   "cell_type": "code",
   "execution_count": 4,
   "metadata": {},
   "outputs": [
    {
     "name": "stdout",
     "output_type": "stream",
     "text": [
      "Training Set Length - 950\n",
      "Test Set Length - 50\n",
      "------------------------------------------------------------------------------------------------------------------------\n",
      "Training Data Glimpse -\n",
      "\n",
      "[[('Reserves', 'NOUN'), ('for', 'ADP'), ('the', 'DET'), ('five', 'NUM'), ('new', 'ADJ'), ('fields', 'NOUN'), ('total', 'VERB'), ('50', 'NUM'), ('million', 'NUM'), ('barrels', 'NOUN'), ('.', '.')], [('If', 'ADP'), ('``', '.'), ('A', 'DET'), ('Wild', 'NOUN'), ('Sheep', 'NOUN'), ('Chase', 'NOUN'), (\"''\", '.'), ('carries', 'VERB'), ('an', 'DET'), ('implicit', 'ADJ'), ('message', 'NOUN'), ('for', 'ADP'), ('international', 'ADJ'), ('relations', 'NOUN'), (',', '.'), ('it', 'PRON'), (\"'s\", 'VERB'), ('that', 'ADP'), ('the', 'DET'), ('Japanese', 'NOUN'), ('are', 'VERB'), ('more', 'ADV'), ('like', 'ADP'), ('us', 'PRON'), ('than', 'ADP'), ('most', 'ADJ'), ('of', 'ADP'), ('us', 'PRON'), ('think', 'VERB'), ('0', 'X'), ('*?*', 'X'), ('.', '.')], [('Commonwealth', 'NOUN'), ('Edison', 'NOUN'), ('Co.', 'NOUN'), ('was', 'VERB'), ('ordered', 'VERB'), ('*-1', 'X'), ('*-2', 'X'), ('to', 'PRT'), ('refund', 'VERB'), ('about', 'ADP'), ('$', '.'), ('250', 'NUM'), ('million', 'NUM'), ('*U*', 'X'), ('to', 'PRT'), ('its', 'PRON'), ('current', 'ADJ'), ('and', 'CONJ'), ('former', 'ADJ'), ('ratepayers', 'NOUN'), ('for', 'ADP'), ('illegal', 'ADJ'), ('rates', 'NOUN'), ('collected', 'VERB'), ('*', 'X'), ('for', 'ADP'), ('cost', 'NOUN'), ('overruns', 'NOUN'), ('on', 'ADP'), ('a', 'DET'), ('nuclear', 'ADJ'), ('power', 'NOUN'), ('plant', 'NOUN'), ('.', '.')], [('The', 'DET'), ('report', 'NOUN'), ('is', 'VERB'), ('subject', 'ADJ'), ('to', 'PRT'), ('review', 'VERB'), ('by', 'ADP'), ('the', 'DET'), ('State', 'NOUN'), ('Commission', 'NOUN'), ('on', 'ADP'), ('Judicial', 'NOUN'), ('Conduct', 'NOUN'), (',', '.'), ('which', 'DET'), ('*T*-138', 'X'), ('is', 'VERB'), ('empowered', 'VERB'), ('*-1', 'X'), ('to', 'PRT'), ('impose', 'VERB'), ('sanctions', 'NOUN'), ('.', '.')], [('The', 'DET'), ('new', 'ADJ'), ('ad', 'NOUN'), ('plan', 'NOUN'), ('from', 'ADP'), ('Newsweek', 'NOUN'), (',', '.'), ('a', 'DET'), ('unit', 'NOUN'), ('of', 'ADP'), ('the', 'DET'), ('Washington', 'NOUN'), ('Post', 'NOUN'), ('Co.', 'NOUN'), (',', '.'), ('is', 'VERB'), ('the', 'DET'), ('second', 'ADJ'), ('incentive', 'NOUN'), ('plan', 'NOUN'), ('0', 'X'), ('the', 'DET'), ('magazine', 'NOUN'), ('has', 'VERB'), ('offered', 'VERB'), ('advertisers', 'NOUN'), ('*T*-1', 'X'), ('in', 'ADP'), ('three', 'NUM'), ('years', 'NOUN'), ('.', '.')]]\n"
     ]
    }
   ],
   "source": [
    "# Splitting into train and test sets\n",
    "\n",
    "# seed to get same split on every execution\n",
    "random.seed(1234)\n",
    "train_set, test_set = train_test_split(nltk_data, test_size=0.05)\n",
    "\n",
    "print(\"Training Set Length -\", len(train_set))\n",
    "print(\"Test Set Length -\", len(test_set))\n",
    "print(\"-\" * 120)\n",
    "print(\"Training Data Glimpse -\\n\")\n",
    "print(train_set[:5])"
   ]
  },
  {
   "cell_type": "code",
   "execution_count": 5,
   "metadata": {},
   "outputs": [
    {
     "data": {
      "text/plain": [
       "[('Reserves', 'NOUN'),\n",
       " ('for', 'ADP'),\n",
       " ('the', 'DET'),\n",
       " ('five', 'NUM'),\n",
       " ('new', 'ADJ'),\n",
       " ('fields', 'NOUN'),\n",
       " ('total', 'VERB'),\n",
       " ('50', 'NUM'),\n",
       " ('million', 'NUM'),\n",
       " ('barrels', 'NOUN')]"
      ]
     },
     "execution_count": 5,
     "metadata": {},
     "output_type": "execute_result"
    }
   ],
   "source": [
    "# Comprehend list to get all pairs of words and tags in single list\n",
    "\n",
    "train_pairs = [tup for sent in train_set for tup in sent]\n",
    "train_pairs[:10]"
   ]
  },
  {
   "cell_type": "code",
   "execution_count": 6,
   "metadata": {},
   "outputs": [
    {
     "data": {
      "text/plain": [
       "['Reserves',\n",
       " 'for',\n",
       " 'the',\n",
       " 'five',\n",
       " 'new',\n",
       " 'fields',\n",
       " 'total',\n",
       " '50',\n",
       " 'million',\n",
       " 'barrels']"
      ]
     },
     "execution_count": 6,
     "metadata": {},
     "output_type": "execute_result"
    }
   ],
   "source": [
    "# Extract all words from the training pairs\n",
    "\n",
    "train_data_tokens = [pair[0] for pair in train_pairs]\n",
    "train_data_tokens[:10]"
   ]
  },
  {
   "cell_type": "code",
   "execution_count": 7,
   "metadata": {},
   "outputs": [
    {
     "data": {
      "text/plain": [
       "['NOUN', 'ADP', 'DET', 'NUM', 'ADJ', 'NOUN', 'VERB', 'NUM', 'NUM', 'NOUN']"
      ]
     },
     "execution_count": 7,
     "metadata": {},
     "output_type": "execute_result"
    }
   ],
   "source": [
    "# Extract all tags from the training pairs\n",
    "\n",
    "train_data_pos_tags = [pair[1] for pair in train_pairs]\n",
    "train_data_pos_tags[:10]"
   ]
  },
  {
   "cell_type": "code",
   "execution_count": 8,
   "metadata": {},
   "outputs": [],
   "source": [
    "# building the train vocabulary to a set\n",
    "\n",
    "training_vocabulary_set = set(train_data_tokens)"
   ]
  },
  {
   "cell_type": "code",
   "execution_count": 9,
   "metadata": {},
   "outputs": [],
   "source": [
    "# building the POS tags to a set\n",
    "\n",
    "training_pos_tag_set = set(train_data_pos_tags)"
   ]
  },
  {
   "cell_type": "code",
   "execution_count": 10,
   "metadata": {},
   "outputs": [
    {
     "name": "stdout",
     "output_type": "stream",
     "text": [
      "\n",
      "Available Tags :\n",
      "\n",
      "{'X', 'ADP', 'ADV', 'VERB', 'PRT', 'PRON', 'ADJ', 'DET', 'NOUN', 'NUM', '.', 'CONJ'}\n"
     ]
    }
   ],
   "source": [
    "print(\"\\nAvailable Tags :\\n\")\n",
    "print(training_pos_tag_set)"
   ]
  },
  {
   "cell_type": "markdown",
   "metadata": {},
   "source": [
    "## Compute emmision and transition probabilities"
   ]
  },
  {
   "cell_type": "code",
   "execution_count": 11,
   "metadata": {},
   "outputs": [],
   "source": [
    "# Computing P(w/t) and storing in [Tags x Vocabulary] matrix. \n",
    "# This is a matrix with dimension of len(training_pos_tag_set) X len(training_vocabulary_set)\n",
    "\n",
    "len_pos_tags = len(training_pos_tag_set)\n",
    "len_vocab = len(training_vocabulary_set)\n",
    "\n",
    "# Initialize matrix with all zeros\n",
    "word_given_tag = np.zeros((len_pos_tags, len_vocab))"
   ]
  },
  {
   "cell_type": "code",
   "execution_count": 12,
   "metadata": {},
   "outputs": [],
   "source": [
    "# Function to compute emission probabilitiy given word and tag\n",
    "\n",
    "def calc_emmision_probability(word, tag, train_data = train_pairs):\n",
    "    tag_list = [pair for pair in train_data if pair[1]==tag]\n",
    "    count_tag = len(tag_list)\n",
    "    w_given_tag_list = [pair[0] for pair in tag_list if pair[0]==word]\n",
    "    count_w_given_tag = len(w_given_tag_list)\n",
    "    \n",
    "    return (count_w_given_tag, count_tag)\n",
    "    # Returns P(w/t) and P(t)"
   ]
  },
  {
   "cell_type": "code",
   "execution_count": 13,
   "metadata": {},
   "outputs": [],
   "source": [
    "# Function to compute transition probabilitiy given two tags\n",
    "\n",
    "def calc_transition_probability(t2, t1, train_data = train_pairs):\n",
    "    tags = [pair[1] for pair in train_data]\n",
    "    count_t1 = len([t for t in tags if t==t1])\n",
    "    count_t2_t1 = 0\n",
    "    for index in range(len(tags)-1):\n",
    "        if tags[index]==t1 and tags[index+1] == t2:\n",
    "            count_t2_t1 += 1\n",
    "    return (count_t2_t1, count_t1)\n",
    "    # Returns P(t2/t1) and P(t1)"
   ]
  },
  {
   "cell_type": "code",
   "execution_count": 14,
   "metadata": {},
   "outputs": [
    {
     "data": {
      "text/plain": [
       "array([[7.59819672e-02, 1.60978749e-01, 2.25370247e-02, 2.05408886e-01,\n",
       "        1.80940121e-01, 6.18158393e-02, 1.73857044e-02, 5.15131988e-02,\n",
       "        6.43915012e-02, 6.43915031e-04, 1.49388283e-01, 9.01481044e-03],\n",
       "       [2.95833331e-02, 1.70833338e-02, 1.41666671e-02, 5.83333336e-03,\n",
       "        1.24999997e-03, 6.12500012e-02, 1.03333332e-01, 3.27083319e-01,\n",
       "        3.42500001e-01, 6.58333302e-02, 3.20833325e-02, 0.00000000e+00],\n",
       "       [3.34672034e-02, 1.35207504e-01, 8.56760368e-02, 3.22623819e-01,\n",
       "        1.60642564e-02, 1.74029451e-02, 1.19143240e-01, 7.36278445e-02,\n",
       "        4.55153957e-02, 2.54350733e-02, 1.17804550e-01, 8.03212821e-03],\n",
       "       [2.33073324e-01, 8.86115432e-02, 7.73790926e-02, 1.65678620e-01,\n",
       "        3.43213715e-02, 3.96255851e-02, 6.95787817e-02, 1.31669268e-01,\n",
       "        1.09828390e-01, 2.02808119e-02, 2.62090489e-02, 3.74414981e-03],\n",
       "       [1.26903551e-02, 1.77664980e-02, 1.01522841e-02, 3.84517759e-01,\n",
       "        1.26903551e-03, 2.41116751e-02, 7.74111673e-02, 1.05329946e-01,\n",
       "        2.77918786e-01, 4.44162451e-02, 3.93401012e-02, 5.07614203e-03],\n",
       "       [1.06259100e-01, 2.47452687e-02, 3.93013097e-02, 4.55604076e-01,\n",
       "        1.89228524e-02, 1.45560410e-02, 7.71470144e-02, 4.36681230e-03,\n",
       "        2.08151385e-01, 8.73362459e-03, 3.78457047e-02, 4.36681230e-03],\n",
       "       [1.51515156e-02, 7.13383853e-02, 5.68181835e-03, 6.94444450e-03,\n",
       "        9.46969725e-03, 1.26262626e-03, 7.07070678e-02, 5.68181835e-03,\n",
       "        7.07070708e-01, 2.14646459e-02, 6.56565651e-02, 1.95707064e-02],\n",
       "       [4.02843617e-02, 9.00473911e-03, 1.37440758e-02, 3.03317532e-02,\n",
       "        4.73933644e-04, 2.36966833e-03, 2.24644557e-01, 6.16113748e-03,\n",
       "        6.38388634e-01, 1.75355449e-02, 1.65876783e-02, 4.73933644e-04],\n",
       "       [2.95764543e-02, 1.79755926e-01, 1.70854274e-02, 1.52045950e-01,\n",
       "        4.66618799e-02, 6.74802577e-03, 1.10552767e-02, 1.09117012e-02,\n",
       "        2.61019379e-01, 6.03015069e-03, 2.37473086e-01, 4.16367538e-02],\n",
       "       [1.76911548e-01, 5.39730117e-02, 2.99850083e-03, 1.94902550e-02,\n",
       "        3.14842574e-02, 0.00000000e+00, 4.04797606e-02, 4.49775113e-03,\n",
       "        3.49325329e-01, 1.64917544e-01, 1.34932533e-01, 2.09895056e-02],\n",
       "       [2.49163266e-02, 9.48307887e-02, 5.28077334e-02, 9.37151387e-02,\n",
       "        1.85942731e-03, 7.10301250e-02, 4.87169959e-02, 1.94496095e-01,\n",
       "        2.14206025e-01, 5.61547056e-02, 9.52026770e-02, 5.16920798e-02],\n",
       "       [1.75097268e-02, 3.50194536e-02, 5.83657585e-02, 1.65369645e-01,\n",
       "        1.94552529e-03, 5.83657585e-02, 1.20622568e-01, 1.12840466e-01,\n",
       "        3.89105052e-01, 1.75097268e-02, 2.33463030e-02, 0.00000000e+00]],\n",
       "      dtype=float32)"
      ]
     },
     "execution_count": 14,
     "metadata": {},
     "output_type": "execute_result"
    }
   ],
   "source": [
    "# creating t x t transition matrix of tags\n",
    "# each column is t2, each row is t1\n",
    "# thus M(i, j) represents P(tj given ti)\n",
    "\n",
    "transition_probabilities = np.zeros((len_pos_tags, len_pos_tags), dtype='float32')\n",
    "for i, t1 in enumerate(list(training_pos_tag_set)):\n",
    "    for j, t2 in enumerate(list(training_pos_tag_set)): \n",
    "        transition_probabilities[i, j] = calc_transition_probability(t2, t1)[0]/calc_transition_probability(t2, t1)[1]\n",
    "\n",
    "transition_probabilities"
   ]
  },
  {
   "cell_type": "code",
   "execution_count": 15,
   "metadata": {},
   "outputs": [
    {
     "data": {
      "text/html": [
       "<div>\n",
       "<style scoped>\n",
       "    .dataframe tbody tr th:only-of-type {\n",
       "        vertical-align: middle;\n",
       "    }\n",
       "\n",
       "    .dataframe tbody tr th {\n",
       "        vertical-align: top;\n",
       "    }\n",
       "\n",
       "    .dataframe thead th {\n",
       "        text-align: right;\n",
       "    }\n",
       "</style>\n",
       "<table border=\"1\" class=\"dataframe\">\n",
       "  <thead>\n",
       "    <tr style=\"text-align: right;\">\n",
       "      <th></th>\n",
       "      <th>X</th>\n",
       "      <th>ADP</th>\n",
       "      <th>ADV</th>\n",
       "      <th>VERB</th>\n",
       "      <th>PRT</th>\n",
       "      <th>PRON</th>\n",
       "      <th>ADJ</th>\n",
       "      <th>DET</th>\n",
       "      <th>NOUN</th>\n",
       "      <th>NUM</th>\n",
       "      <th>.</th>\n",
       "      <th>CONJ</th>\n",
       "    </tr>\n",
       "  </thead>\n",
       "  <tbody>\n",
       "    <tr>\n",
       "      <th>X</th>\n",
       "      <td>0.075982</td>\n",
       "      <td>0.160979</td>\n",
       "      <td>0.022537</td>\n",
       "      <td>0.205409</td>\n",
       "      <td>0.180940</td>\n",
       "      <td>0.061816</td>\n",
       "      <td>0.017386</td>\n",
       "      <td>0.051513</td>\n",
       "      <td>0.064392</td>\n",
       "      <td>0.000644</td>\n",
       "      <td>0.149388</td>\n",
       "      <td>0.009015</td>\n",
       "    </tr>\n",
       "    <tr>\n",
       "      <th>ADP</th>\n",
       "      <td>0.029583</td>\n",
       "      <td>0.017083</td>\n",
       "      <td>0.014167</td>\n",
       "      <td>0.005833</td>\n",
       "      <td>0.001250</td>\n",
       "      <td>0.061250</td>\n",
       "      <td>0.103333</td>\n",
       "      <td>0.327083</td>\n",
       "      <td>0.342500</td>\n",
       "      <td>0.065833</td>\n",
       "      <td>0.032083</td>\n",
       "      <td>0.000000</td>\n",
       "    </tr>\n",
       "    <tr>\n",
       "      <th>ADV</th>\n",
       "      <td>0.033467</td>\n",
       "      <td>0.135208</td>\n",
       "      <td>0.085676</td>\n",
       "      <td>0.322624</td>\n",
       "      <td>0.016064</td>\n",
       "      <td>0.017403</td>\n",
       "      <td>0.119143</td>\n",
       "      <td>0.073628</td>\n",
       "      <td>0.045515</td>\n",
       "      <td>0.025435</td>\n",
       "      <td>0.117805</td>\n",
       "      <td>0.008032</td>\n",
       "    </tr>\n",
       "    <tr>\n",
       "      <th>VERB</th>\n",
       "      <td>0.233073</td>\n",
       "      <td>0.088612</td>\n",
       "      <td>0.077379</td>\n",
       "      <td>0.165679</td>\n",
       "      <td>0.034321</td>\n",
       "      <td>0.039626</td>\n",
       "      <td>0.069579</td>\n",
       "      <td>0.131669</td>\n",
       "      <td>0.109828</td>\n",
       "      <td>0.020281</td>\n",
       "      <td>0.026209</td>\n",
       "      <td>0.003744</td>\n",
       "    </tr>\n",
       "    <tr>\n",
       "      <th>PRT</th>\n",
       "      <td>0.012690</td>\n",
       "      <td>0.017766</td>\n",
       "      <td>0.010152</td>\n",
       "      <td>0.384518</td>\n",
       "      <td>0.001269</td>\n",
       "      <td>0.024112</td>\n",
       "      <td>0.077411</td>\n",
       "      <td>0.105330</td>\n",
       "      <td>0.277919</td>\n",
       "      <td>0.044416</td>\n",
       "      <td>0.039340</td>\n",
       "      <td>0.005076</td>\n",
       "    </tr>\n",
       "    <tr>\n",
       "      <th>PRON</th>\n",
       "      <td>0.106259</td>\n",
       "      <td>0.024745</td>\n",
       "      <td>0.039301</td>\n",
       "      <td>0.455604</td>\n",
       "      <td>0.018923</td>\n",
       "      <td>0.014556</td>\n",
       "      <td>0.077147</td>\n",
       "      <td>0.004367</td>\n",
       "      <td>0.208151</td>\n",
       "      <td>0.008734</td>\n",
       "      <td>0.037846</td>\n",
       "      <td>0.004367</td>\n",
       "    </tr>\n",
       "    <tr>\n",
       "      <th>ADJ</th>\n",
       "      <td>0.015152</td>\n",
       "      <td>0.071338</td>\n",
       "      <td>0.005682</td>\n",
       "      <td>0.006944</td>\n",
       "      <td>0.009470</td>\n",
       "      <td>0.001263</td>\n",
       "      <td>0.070707</td>\n",
       "      <td>0.005682</td>\n",
       "      <td>0.707071</td>\n",
       "      <td>0.021465</td>\n",
       "      <td>0.065657</td>\n",
       "      <td>0.019571</td>\n",
       "    </tr>\n",
       "    <tr>\n",
       "      <th>DET</th>\n",
       "      <td>0.040284</td>\n",
       "      <td>0.009005</td>\n",
       "      <td>0.013744</td>\n",
       "      <td>0.030332</td>\n",
       "      <td>0.000474</td>\n",
       "      <td>0.002370</td>\n",
       "      <td>0.224645</td>\n",
       "      <td>0.006161</td>\n",
       "      <td>0.638389</td>\n",
       "      <td>0.017536</td>\n",
       "      <td>0.016588</td>\n",
       "      <td>0.000474</td>\n",
       "    </tr>\n",
       "    <tr>\n",
       "      <th>NOUN</th>\n",
       "      <td>0.029576</td>\n",
       "      <td>0.179756</td>\n",
       "      <td>0.017085</td>\n",
       "      <td>0.152046</td>\n",
       "      <td>0.046662</td>\n",
       "      <td>0.006748</td>\n",
       "      <td>0.011055</td>\n",
       "      <td>0.010912</td>\n",
       "      <td>0.261019</td>\n",
       "      <td>0.006030</td>\n",
       "      <td>0.237473</td>\n",
       "      <td>0.041637</td>\n",
       "    </tr>\n",
       "    <tr>\n",
       "      <th>NUM</th>\n",
       "      <td>0.176912</td>\n",
       "      <td>0.053973</td>\n",
       "      <td>0.002999</td>\n",
       "      <td>0.019490</td>\n",
       "      <td>0.031484</td>\n",
       "      <td>0.000000</td>\n",
       "      <td>0.040480</td>\n",
       "      <td>0.004498</td>\n",
       "      <td>0.349325</td>\n",
       "      <td>0.164918</td>\n",
       "      <td>0.134933</td>\n",
       "      <td>0.020990</td>\n",
       "    </tr>\n",
       "    <tr>\n",
       "      <th>.</th>\n",
       "      <td>0.024916</td>\n",
       "      <td>0.094831</td>\n",
       "      <td>0.052808</td>\n",
       "      <td>0.093715</td>\n",
       "      <td>0.001859</td>\n",
       "      <td>0.071030</td>\n",
       "      <td>0.048717</td>\n",
       "      <td>0.194496</td>\n",
       "      <td>0.214206</td>\n",
       "      <td>0.056155</td>\n",
       "      <td>0.095203</td>\n",
       "      <td>0.051692</td>\n",
       "    </tr>\n",
       "    <tr>\n",
       "      <th>CONJ</th>\n",
       "      <td>0.017510</td>\n",
       "      <td>0.035019</td>\n",
       "      <td>0.058366</td>\n",
       "      <td>0.165370</td>\n",
       "      <td>0.001946</td>\n",
       "      <td>0.058366</td>\n",
       "      <td>0.120623</td>\n",
       "      <td>0.112840</td>\n",
       "      <td>0.389105</td>\n",
       "      <td>0.017510</td>\n",
       "      <td>0.023346</td>\n",
       "      <td>0.000000</td>\n",
       "    </tr>\n",
       "  </tbody>\n",
       "</table>\n",
       "</div>"
      ],
      "text/plain": [
       "             X       ADP       ADV      VERB       PRT      PRON       ADJ  \\\n",
       "X     0.075982  0.160979  0.022537  0.205409  0.180940  0.061816  0.017386   \n",
       "ADP   0.029583  0.017083  0.014167  0.005833  0.001250  0.061250  0.103333   \n",
       "ADV   0.033467  0.135208  0.085676  0.322624  0.016064  0.017403  0.119143   \n",
       "VERB  0.233073  0.088612  0.077379  0.165679  0.034321  0.039626  0.069579   \n",
       "PRT   0.012690  0.017766  0.010152  0.384518  0.001269  0.024112  0.077411   \n",
       "PRON  0.106259  0.024745  0.039301  0.455604  0.018923  0.014556  0.077147   \n",
       "ADJ   0.015152  0.071338  0.005682  0.006944  0.009470  0.001263  0.070707   \n",
       "DET   0.040284  0.009005  0.013744  0.030332  0.000474  0.002370  0.224645   \n",
       "NOUN  0.029576  0.179756  0.017085  0.152046  0.046662  0.006748  0.011055   \n",
       "NUM   0.176912  0.053973  0.002999  0.019490  0.031484  0.000000  0.040480   \n",
       ".     0.024916  0.094831  0.052808  0.093715  0.001859  0.071030  0.048717   \n",
       "CONJ  0.017510  0.035019  0.058366  0.165370  0.001946  0.058366  0.120623   \n",
       "\n",
       "           DET      NOUN       NUM         .      CONJ  \n",
       "X     0.051513  0.064392  0.000644  0.149388  0.009015  \n",
       "ADP   0.327083  0.342500  0.065833  0.032083  0.000000  \n",
       "ADV   0.073628  0.045515  0.025435  0.117805  0.008032  \n",
       "VERB  0.131669  0.109828  0.020281  0.026209  0.003744  \n",
       "PRT   0.105330  0.277919  0.044416  0.039340  0.005076  \n",
       "PRON  0.004367  0.208151  0.008734  0.037846  0.004367  \n",
       "ADJ   0.005682  0.707071  0.021465  0.065657  0.019571  \n",
       "DET   0.006161  0.638389  0.017536  0.016588  0.000474  \n",
       "NOUN  0.010912  0.261019  0.006030  0.237473  0.041637  \n",
       "NUM   0.004498  0.349325  0.164918  0.134933  0.020990  \n",
       ".     0.194496  0.214206  0.056155  0.095203  0.051692  \n",
       "CONJ  0.112840  0.389105  0.017510  0.023346  0.000000  "
      ]
     },
     "execution_count": 15,
     "metadata": {},
     "output_type": "execute_result"
    }
   ],
   "source": [
    "# convert the matrix to data frame\n",
    "transition_df = pd.DataFrame(transition_probabilities, columns = list(training_pos_tag_set), index=list(training_pos_tag_set))\n",
    "transition_df"
   ]
  },
  {
   "cell_type": "markdown",
   "metadata": {},
   "source": [
    "## Viterbi algorithm implementation for POS tagging"
   ]
  },
  {
   "cell_type": "code",
   "execution_count": 16,
   "metadata": {},
   "outputs": [],
   "source": [
    "def Viterbi_algorithm(words, train_data = train_pairs):\n",
    "    state = []\n",
    "    T = list(set([pair[1] for pair in train_data]))\n",
    "    \n",
    "    for key, word in enumerate(words):\n",
    "        #initialise list of probability column for a given observation\n",
    "        p = [] \n",
    "        for tag in T:\n",
    "            if key == 0:\n",
    "                transition_p = transition_df.loc['.', tag]\n",
    "            else:\n",
    "                transition_p = transition_df.loc[state[-1], tag]\n",
    "                \n",
    "            # compute emission and state probabilities\n",
    "            emission_p = calc_emmision_probability(words[key], tag)[0]/calc_emmision_probability(words[key], tag)[1]\n",
    "            state_probability = emission_p * transition_p    \n",
    "            p.append(state_probability)\n",
    "            \n",
    "        pmax = max(p)\n",
    "        # getting state for which probability is maximum\n",
    "        state_max = T[p.index(pmax)] \n",
    "        state.append(state_max)\n",
    "    return list(zip(words, state))"
   ]
  },
  {
   "cell_type": "markdown",
   "metadata": {},
   "source": [
    "## Testing and evaluating the algorithm"
   ]
  },
  {
   "cell_type": "code",
   "execution_count": 17,
   "metadata": {},
   "outputs": [],
   "source": [
    "random.seed(1234)\n",
    "\n",
    "# list of tagged words\n",
    "test_run_base = [tup for sent in test_set for tup in sent]\n",
    "\n",
    "# list of untagged words\n",
    "test_tagged_words = [tup[0] for sent in test_set for tup in sent]"
   ]
  },
  {
   "cell_type": "code",
   "execution_count": 18,
   "metadata": {},
   "outputs": [
    {
     "name": "stdout",
     "output_type": "stream",
     "text": [
      "[('Commonwealth', 'NOUN'), ('Edison', 'NOUN'), ('now', 'ADV'), ('faces', 'X'), ('an', 'DET'), ('additional', 'ADJ'), ('court-ordered', 'X'), ('refund', 'VERB'), ('on', 'ADP'), ('its', 'PRON'), ('summer\\\\/winter', 'X'), ('rate', 'NOUN'), ('differential', 'X'), ('collections', 'NOUN'), ('that', 'ADP'), ('the', 'DET'), ('Illinois', 'NOUN'), ('Appellate', 'X'), ('Court', 'NOUN'), ('has', 'VERB'), ('estimated', 'VERB'), ('*T*-1', 'X'), ('at', 'ADP'), ('$', '.'), ('140', 'X'), ('million', 'NUM'), ('*U*', 'X'), ('.', '.'), ('Northeast', 'NOUN'), ('said', 'VERB'), ('0', 'X'), ('it', 'PRON'), ('would', 'VERB'), ('refile', 'X'), ('its', 'PRON'), ('request', 'NOUN'), ('and', 'CONJ'), ('still', 'ADV'), ('hopes', 'X'), ('for', 'ADP'), ('an', 'DET'), ('expedited', 'X'), ('review', 'VERB'), ('by', 'ADP'), ('the', 'DET'), ('FERC', 'X'), ('so', 'ADV'), ('that', 'ADP'), ('it', 'PRON'), ('could', 'VERB'), ('complete', 'VERB'), ('the', 'DET'), ('purchase', 'NOUN'), ('by', 'ADP'), ('next', 'ADJ'), ('summer', 'X'), ('if', 'ADP'), ('its', 'PRON'), ('bid', 'NOUN'), ('is', 'VERB'), ('the', 'DET'), ('one', 'NUM'), ('approved', 'VERB'), ('*', 'X'), ('by', 'ADP'), ('the', 'DET'), ('bankruptcy', 'NOUN'), ('court', 'NOUN'), ('.', '.'), ('She', 'PRON'), ('said', 'VERB'), ('0', 'X'), ('there', 'DET'), ('is', 'VERB'), ('``', '.'), ('growing', 'VERB'), ('realization', 'X'), ('*ICH*-1', 'X'), (\"''\", '.'), ('around', 'ADP'), ('the', 'DET'), ('world', 'NOUN'), ('that', 'ADP'), ('denial', 'X'), ('of', 'ADP'), ('intellectual-property', 'ADJ'), ('rights', 'NOUN'), ('harms', 'X'), ('all', 'DET'), ('trading', 'NOUN'), ('nations', 'NOUN'), (',', '.'), ('and', 'CONJ'), ('particularly', 'ADV'), ('the', 'DET'), ('``', '.'), ('creativity', 'NOUN'), ('and', 'CONJ'), ('inventiveness', 'X'), ('of', 'ADP'), ('an', 'DET'), ('-LCB-', '.'), ('offending', 'X'), ('-RCB-', '.'), ('country', 'NOUN'), (\"'s\", 'PRT'), ('own', 'ADJ'), ('citizens', 'X'), ('.', '.'), (\"''\", '.'), ('It', 'PRON'), ('said', 'VERB'), ('0', 'X'), ('the', 'DET'), ('man', 'NOUN'), (',', '.'), ('whom', 'PRON'), ('it', 'PRON'), ('did', 'VERB'), ('not', 'ADV'), ('name', 'NOUN'), ('*T*-63', 'X'), (',', '.'), ('had', 'VERB'), ('been', 'VERB'), ('found', 'VERB'), ('*-1', 'X'), ('to', 'PRT'), ('have', 'VERB'), ('the', 'DET'), ('disease', 'NOUN'), ('after', 'ADP'), ('hospital', 'X'), ('tests', 'NOUN'), ('.', '.'), ('Finmeccanica', 'NOUN'), ('is', 'VERB'), ('an', 'DET'), ('Italian', 'ADJ'), ('state-owned', 'X'), ('holding', 'VERB'), ('company', 'NOUN'), ('with', 'ADP'), ('interests', 'X'), ('in', 'ADP'), ('the', 'DET'), ('mechanical', 'X'), ('engineering', 'NOUN'), ('industry', 'NOUN'), ('.', '.'), ('In', 'ADP'), ('*-2', 'X'), ('ending', 'X'), ('Hungary', 'NOUN'), (\"'s\", 'PRT'), ('part', 'NOUN'), ('of', 'ADP'), ('the', 'DET'), ('project', 'NOUN'), (',', '.'), ('Parliament', 'NOUN'), ('authorized', 'X'), ('Prime', 'NOUN'), ('Minister', 'NOUN'), ('Miklos', 'X'), ('Nemeth', 'NOUN'), ('to', 'PRT'), ('modify', 'VERB'), ('a', 'DET'), ('1977', 'NUM'), ('agreement', 'NOUN'), ('with', 'ADP'), ('Czechoslovakia', 'NOUN'), (',', '.'), ('which', 'DET'), ('*T*-64', 'X'), ('still', 'ADV'), ('wants', 'VERB'), ('the', 'DET'), ('dam', 'NOUN'), ('to', 'PRT'), ('be', 'VERB'), ('built', 'VERB'), ('*-1', 'X'), ('.', '.'), ('``', '.'), ('We', 'PRON'), ('have', 'VERB'), ('no', 'DET'), ('useful', 'X'), ('information', 'NOUN'), ('on', 'ADP'), ('whether', 'ADP'), ('users', 'X'), ('are', 'VERB'), ('at', 'ADP'), ('risk', 'NOUN'), (',', '.'), (\"''\", '.'), ('said', 'VERB'), ('*T*-1', 'X'), ('James', 'NOUN'), ('A.', 'NOUN'), ('Talcott', 'NOUN'), ('of', 'ADP'), ('Boston', 'NOUN'), (\"'s\", 'PRT'), ('Dana-Farber', 'X'), ('Cancer', 'NOUN'), ('Institute', 'NOUN'), ('.', '.'), ('In', 'ADP'), ('Seoul', 'NOUN'), (',', '.'), ('officials', 'NOUN'), ('began', 'VERB'), ('*-1', 'X'), ('visiting', 'X'), ('about', 'ADP'), ('26,000', 'X'), ('cigarette', 'NOUN'), ('stalls', 'X'), ('*-1', 'X'), ('to', 'PRT'), ('remove', 'X'), ('illegal', 'ADJ'), ('posters', 'X'), ('and', 'CONJ'), ('signboards', 'X'), ('advertising', 'NOUN'), ('imported', 'VERB'), ('cigarettes', 'NOUN'), ('.', '.'), ('By', 'ADP'), ('Tuesday', 'NOUN'), ('night', 'X'), (',', '.'), ('television', 'NOUN'), ('stations', 'X'), ('were', 'VERB'), ('carrying', 'X'), ('new', 'ADJ'), ('ads', 'NOUN'), ('featuring', 'VERB'), ('Mr.', 'NOUN'), ('Coleman', 'NOUN'), ('himself', 'PRON'), ('raising', 'VERB'), ('questions', 'NOUN'), ('about', 'ADP'), ('Mr.', 'NOUN'), ('Wilder', 'NOUN'), (\"'s\", 'PRT'), ('sensitivity', 'X'), ('to', 'PRT'), ('rape', 'NOUN'), ('victims', 'NOUN'), ('.', '.'), ('The', 'DET'), ('turf', 'X'), ('recently', 'ADV'), ('has', 'VERB'), ('ranged', 'X'), ('from', 'ADP'), ('Chile', 'X'), ('to', 'PRT'), ('Austria', 'X'), ('to', 'PRT'), ('Portugal', 'X'), ('.', '.'), ('Supportive', 'X'), ('callers', 'X'), ('decried', 'X'), ('unfair', 'ADJ'), ('testing', 'NOUN'), (',', '.'), ('not', 'ADV'), ('Mrs.', 'NOUN'), ('Yeargin', 'NOUN'), (',', '.'), ('on', 'ADP'), ('a', 'DET'), ('local', 'ADJ'), ('radio', 'NOUN'), ('talk', 'VERB'), ('show', 'VERB'), ('on', 'ADP'), ('which', 'DET'), ('she', 'PRON'), ('appeared', 'VERB'), ('*T*-1', 'X'), ('.', '.'), ('Rick', 'X'), ('Brownell', 'NOUN'), (',', '.'), ('senior', 'ADJ'), ('editor', 'NOUN'), ('of', 'ADP'), ('Scoring', 'NOUN'), ('High', 'NOUN'), (',', '.'), ('says', 'VERB'), ('that', 'ADP'), ('Messrs.', 'NOUN'), ('Kaminski', 'NOUN'), ('and', 'CONJ'), ('Mehrens', 'NOUN'), ('are', 'VERB'), ('ignoring', 'X'), ('``', '.'), ('the', 'DET'), ('need', 'VERB'), ('0', 'X'), ('students', 'NOUN'), ('have', 'VERB'), ('*T*-1', 'X'), ('for', 'ADP'), ('*', 'X'), ('becoming', 'VERB'), ('familiar', 'ADJ'), ('with', 'ADP'), ('tests', 'NOUN'), ('and', 'CONJ'), ('testing', 'NOUN'), ('format', 'X'), ('.', '.'), (\"''\", '.'), ('Some', 'DET'), ('of', 'ADP'), ('his', 'PRON'), ('observations', 'X'), ('about', 'ADP'), ('Japanese', 'ADJ'), ('management', 'NOUN'), ('style', 'X'), ('are', 'VERB'), ('on', 'ADP'), ('the', 'DET'), ('mark', 'VERB'), ('.', '.'), ('But', 'CONJ'), ('state', 'NOUN'), ('courts', 'NOUN'), ('upheld', 'VERB'), ('a', 'DET'), ('challenge', 'X'), ('by', 'ADP'), ('consumer', 'NOUN'), ('groups', 'NOUN'), ('to', 'PRT'), ('the', 'DET'), ('commission', 'NOUN'), (\"'s\", 'PRT'), ('rate', 'NOUN'), ('increase', 'NOUN'), ('and', 'CONJ'), ('found', 'VERB'), ('the', 'DET'), ('rates', 'NOUN'), ('illegal', 'ADJ'), ('.', '.'), ('The', 'DET'), ('record', 'NOUN'), ('price', 'NOUN'), ('for', 'ADP'), ('a', 'DET'), ('full', 'ADJ'), ('membership', 'NOUN'), ('on', 'ADP'), ('the', 'DET'), ('exchange', 'X'), ('is', 'VERB'), ('$', '.'), ('550,000', 'X'), ('*U*', 'X'), (',', '.'), ('*-2', 'X'), ('set', 'VERB'), ('*-1', 'X'), ('Aug.', 'X'), ('31', 'NUM'), (',', '.'), ('1987', 'NUM'), ('.', '.'), ('The', 'DET'), ('beds', 'X'), ('at', 'ADP'), ('the', 'DET'), ('Bowery', 'X'), ('Mission', 'X'), ('seem', 'VERB'), ('far', 'ADV'), ('drearier', 'X'), ('when', 'ADV'), ('he', 'PRON'), ('has', 'VERB'), ('*-1', 'X'), ('to', 'PRT'), ('tuck', 'X'), ('a', 'DET'), ('little', 'ADJ'), ('girl', 'NOUN'), ('into', 'ADP'), ('one', 'NUM'), ('of', 'ADP'), ('them', 'PRON'), ('at', 'ADP'), ('night', 'X'), ('*T*-2', 'X'), ('.', '.'), ('Despite', 'ADP'), ('the', 'DET'), ('gloomy', 'X'), ('forecast', 'NOUN'), (',', '.'), ('South', 'NOUN'), ('Korea', 'NOUN'), ('has', 'VERB'), ('recorded', 'VERB'), ('a', 'DET'), ('trade', 'NOUN'), ('surplus', 'X'), ('of', 'ADP'), ('$', '.'), ('71', 'X'), ('million', 'NUM'), ('*U*', 'X'), ('so', 'ADV'), ('far', 'ADV'), ('this', 'DET'), ('year', 'NOUN'), ('.', '.'), ('Sales', 'NOUN'), ('figures', 'NOUN'), ('of', 'ADP'), ('the', 'DET'), ('test-prep', 'X'), ('materials', 'NOUN'), ('are', 'VERB'), (\"n't\", 'ADV'), ('known', 'VERB'), ('*-1', 'X'), (',', '.'), ('but', 'CONJ'), ('their', 'PRON'), ('reach', 'VERB'), ('into', 'ADP'), ('schools', 'NOUN'), ('is', 'VERB'), ('significant', 'ADJ'), ('.', '.'), ('``', '.'), ('It', 'PRON'), ('was', 'VERB'), ('full', 'ADJ'), ('of', 'ADP'), ('violence', 'X'), ('and', 'CONJ'), ('gangs', 'X'), ('and', 'CONJ'), ('kids', 'NOUN'), ('cutting', 'VERB'), ('class', 'NOUN'), (',', '.'), (\"''\", '.'), ('says', 'VERB'), ('*T*-1', 'X'), ('Linda', 'X'), ('Ward', 'NOUN'), (',', '.'), ('the', 'DET'), ('school', 'NOUN'), (\"'s\", 'PRT'), ('principal', 'NOUN'), ('.', '.'), ('In', 'ADP'), ('Arizona', 'X'), (',', '.'), ('California', 'NOUN'), (',', '.'), ('Florida', 'X'), (',', '.'), ('Louisiana', 'X'), (',', '.'), ('Maryland', 'X'), (',', '.'), ('New', 'NOUN'), ('Jersey', 'NOUN'), (',', '.'), ('South', 'NOUN'), ('Carolina', 'NOUN'), ('and', 'CONJ'), ('Texas', 'NOUN'), (',', '.'), ('educators', 'NOUN'), ('say', 'VERB'), ('0', 'X'), ('they', 'PRON'), ('are', 'VERB'), ('common', 'ADJ'), ('classroom', 'NOUN'), ('tools', 'X'), ('.', '.'), ('``', '.'), ('The', 'DET'), ('U.S.', 'NOUN'), (',', '.'), ('with', 'ADP'), ('its', 'PRON'), ('regional', 'ADJ'), ('friends', 'X'), (',', '.'), ('must', 'VERB'), ('play', 'NOUN'), ('a', 'DET'), ('crucial', 'X'), ('role', 'NOUN'), ('in', 'ADP'), ('*', 'X'), ('designing', 'X'), ('its', 'PRON'), ('architecture', 'NOUN'), ('.', '.'), (\"''\", '.'), ('The', 'DET'), ('Czech', 'X'), ('dam', 'NOUN'), ('ca', 'X'), (\"n't\", 'ADV'), ('be', 'VERB'), ('operated', 'X'), ('*-69', 'X'), ('solely', 'X'), ('at', 'ADP'), ('peak', 'X'), ('periods', 'X'), ('without', 'ADP'), ('the', 'DET'), ('Nagymaros', 'NOUN'), ('project', 'NOUN'), ('.', '.'), ('In', 'ADP'), ('Singapore', 'NOUN'), (',', '.'), ('a', 'DET'), ('new', 'ADJ'), ('law', 'NOUN'), ('requires', 'VERB'), ('smokers', 'NOUN'), ('to', 'PRT'), ('put', 'VERB'), ('out', 'PRT'), ('their', 'PRON'), ('cigarettes', 'NOUN'), ('before', 'ADP'), ('*-1', 'X'), ('entering', 'X'), ('restaurants', 'NOUN'), (',', '.'), ('department', 'NOUN'), ('stores', 'X'), ('and', 'CONJ'), ('sports', 'X'), ('centers', 'X'), ('or', 'CONJ'), ('face', 'NOUN'), ('a', 'DET'), ('$', '.'), ('250', 'NUM'), ('*U*', 'X'), ('fine', 'ADV'), ('.', '.'), ('The', 'DET'), ('strong', 'ADJ'), ('growth', 'NOUN'), ('followed', 'VERB'), ('year-to-year', 'X'), ('increases', 'NOUN'), ('of', 'ADP'), ('21', 'NUM'), ('%', 'NOUN'), ('in', 'ADP'), ('August', 'NOUN'), ('and', 'CONJ'), ('12', 'NUM'), ('%', 'NOUN'), ('in', 'ADP'), ('September', 'NOUN'), ('.', '.'), ('The', 'DET'), ('two', 'NUM'), ('concerns', 'NOUN'), ('said', 'VERB'), ('0', 'X'), ('they', 'PRON'), ('entered', 'VERB'), ('into', 'ADP'), ('a', 'DET'), ('definitive', 'X'), ('merger', 'NOUN'), ('agreement', 'NOUN'), ('under', 'ADP'), ('which', 'DET'), ('Ratners', 'NOUN'), ('will', 'VERB'), ('begin', 'VERB'), ('a', 'DET'), ('tender', 'NOUN'), ('offer', 'NOUN'), ('for', 'ADP'), ('all', 'DET'), ('of', 'ADP'), ('Weisfield', 'NOUN'), (\"'s\", 'PRT'), ('common', 'ADJ'), ('shares', 'NOUN'), ('for', 'ADP'), ('$', '.'), ('57.50', 'X'), ('*U*', 'X'), ('each', 'DET'), ('*T*-1', 'X'), ('.', '.'), ('By', 'ADP'), ('1997', 'X'), (',', '.'), ('almost', 'ADV'), ('all', 'DET'), ('remaining', 'VERB'), ('uses', 'NOUN'), ('of', 'ADP'), ('cancer-causing', 'X'), ('asbestos', 'NOUN'), ('will', 'VERB'), ('be', 'VERB'), ('outlawed', 'X'), ('*-6', 'X'), ('.', '.'), ('Partly', 'ADV'), ('because', 'ADP'), ('of', 'ADP'), ('worries', 'X'), ('about', 'ADP'), ('potential', 'ADJ'), ('abuse', 'X'), (',', '.'), ('however', 'ADV'), (',', '.'), ('he', 'PRON'), ('says', 'VERB'), ('0', 'X'), ('the', 'DET'), ('state', 'NOUN'), ('will', 'VERB'), ('begin', 'VERB'), ('*-1', 'X'), ('keeping', 'X'), ('closer', 'ADJ'), ('track', 'X'), ('of', 'ADP'), ('achievement-test', 'X'), ('preparation', 'NOUN'), ('booklets', 'NOUN'), ('next', 'ADJ'), ('spring', 'NOUN'), ('.', '.'), ('The', 'DET'), ('department', 'NOUN'), ('placed', 'VERB'), ('a', 'DET'), ('moratorium', 'NOUN'), ('on', 'ADP'), ('the', 'DET'), ('research', 'NOUN'), (',', '.'), ('*', 'X'), ('pending', 'VERB'), ('a', 'DET'), ('review', 'NOUN'), ('of', 'ADP'), ('scientific', 'ADJ'), (',', '.'), ('legal', 'ADJ'), ('and', 'CONJ'), ('ethical', 'X'), ('issues', 'NOUN'), ('.', '.'), ('J.P.', 'X'), ('Bolduc', 'X'), (',', '.'), ('vice', 'NOUN'), ('chairman', 'NOUN'), ('of', 'ADP'), ('W.R.', 'NOUN'), ('Grace', 'NOUN'), ('&', 'CONJ'), ('Co.', 'NOUN'), (',', '.'), ('which', 'DET'), ('*T*-10', 'X'), ('holds', 'VERB'), ('a', 'DET'), ('83.4', 'X'), ('%', 'NOUN'), ('interest', 'NOUN'), ('in', 'ADP'), ('this', 'DET'), ('energy-services', 'X'), ('company', 'NOUN'), (',', '.'), ('was', 'VERB'), ('elected', 'VERB'), ('*-10', 'X'), ('a', 'DET'), ('director', 'NOUN'), ('.', '.'), ('The', 'DET'), ('figures', 'NOUN'), ('in', 'ADP'), ('both', 'DET'), ('reports', 'NOUN'), ('were', 'VERB'), ('adjusted', 'VERB'), ('*-1', 'X'), ('*', 'X'), ('to', 'PRT'), ('remove', 'X'), ('the', 'DET'), ('effects', 'X'), ('of', 'ADP'), ('usual', 'X'), ('seasonal', 'X'), ('patterns', 'X'), (',', '.'), ('but', 'CONJ'), ('were', 'VERB'), (\"n't\", 'ADV'), ('adjusted', 'VERB'), ('for', 'ADP'), ('inflation', 'NOUN'), ('.', '.'), ('And', 'CONJ'), (',', '.'), ('unlike', 'ADJ'), ('a', 'DET'), ('few', 'ADJ'), ('years', 'NOUN'), ('ago', 'ADP'), (',', '.'), ('you', 'PRON'), ('do', 'VERB'), (\"n't\", 'ADV'), ('even', 'ADV'), ('have', 'VERB'), ('*-1', 'X'), ('to', 'PRT'), ('worry', 'VERB'), ('whether', 'ADP'), ('the', 'DET'), ('ad', 'NOUN'), ('is', 'VERB'), ('truthful', 'X'), ('.', '.'), (\"''\", '.'), ('He', 'PRON'), ('spends', 'VERB'), ('his', 'PRON'), ('days', 'NOUN'), ('*-1', 'X'), ('sketching', 'X'), ('passers-by', 'X'), (',', '.'), ('or', 'CONJ'), ('*-1', 'X'), ('trying', 'VERB'), ('*-2', 'X'), ('to', 'PRT'), ('*?*', 'X'), ('.', '.'), ('The', 'DET'), ('school-board', 'X'), ('hearing', 'NOUN'), ('at', 'ADP'), ('which', 'DET'), ('she', 'PRON'), ('was', 'VERB'), ('dismissed', 'X'), ('*-2', 'X'), ('*T*-1', 'X'), ('was', 'VERB'), ('crowded', 'X'), ('*-4', 'X'), ('with', 'ADP'), ('students', 'NOUN'), (',', '.'), ('teachers', 'NOUN'), ('and', 'CONJ'), ('parents', 'NOUN'), ('who', 'PRON'), ('*T*-98', 'X'), ('came', 'VERB'), ('*-3', 'X'), ('to', 'PRT'), ('testify', 'X'), ('on', 'ADP'), ('her', 'PRON'), ('behalf', 'NOUN'), ('.', '.'), ('-LRB-', '.'), ('During', 'X'), ('its', 'PRON'), ('centennial', 'X'), ('year', 'NOUN'), (',', '.'), ('The', 'DET'), ('Wall', 'NOUN'), ('Street', 'NOUN'), ('Journal', 'NOUN'), ('will', 'VERB'), ('report', 'VERB'), ('events', 'NOUN'), ('of', 'ADP'), ('the', 'DET'), ('past', 'ADJ'), ('century', 'NOUN'), ('that', 'ADP'), ('*T*-30', 'X'), ('stand', 'VERB'), ('as', 'ADP'), ('milestones', 'X'), ('of', 'ADP'), ('American', 'ADJ'), ('business', 'NOUN'), ('history', 'NOUN'), ('.', '.'), ('-RRB-', '.'), ('The', 'DET'), ('official', 'NOUN'), ('news', 'NOUN'), ('agency', 'NOUN'), ('PAP', 'X'), ('said', 'VERB'), ('0', 'X'), ('the', 'DET'), ('increases', 'NOUN'), ('were', 'VERB'), ('intended', 'VERB'), ('*-1', 'X'), ('to', 'PRT'), ('bring', 'VERB'), ('unrealistically', 'X'), ('low', 'ADJ'), ('energy', 'NOUN'), ('charges', 'NOUN'), ('into', 'ADP'), ('line', 'NOUN'), ('with', 'ADP'), ('production', 'NOUN'), ('costs', 'NOUN'), ('and', 'CONJ'), ('compensate', 'X'), ('for', 'ADP'), ('a', 'DET'), ('rise', 'NOUN'), ('in', 'ADP'), ('coal', 'X'), ('prices', 'NOUN'), ('.', '.'), ('The', 'DET'), ('40-year-old', 'X'), ('Mr.', 'NOUN'), ('Murakami', 'NOUN'), ('is', 'VERB'), ('a', 'DET'), ('publishing', 'VERB'), ('sensation', 'X'), ('in', 'ADP'), ('Japan', 'NOUN'), ('.', '.'), ('But', 'CONJ'), ('it', 'PRON'), (\"'s\", 'VERB'), ('building', 'NOUN'), ('on', 'ADP'), ('a', 'DET'), ('long', 'ADJ'), ('tradition', 'NOUN'), ('.', '.'), ('And', 'CONJ'), ('the', 'DET'), ('city', 'NOUN'), ('decided', 'VERB'), ('*-1', 'X'), ('to', 'PRT'), ('treat', 'VERB'), ('its', 'PRON'), ('guests', 'NOUN'), ('more', 'ADV'), ('like', 'ADP'), ('royalty', 'X'), ('or', 'CONJ'), ('rock', 'X'), ('stars', 'NOUN'), ('than', 'ADP'), ('factory', 'NOUN'), ('owners', 'NOUN'), ('.', '.'), ('In', 'ADP'), ('her', 'PRON'), ('wake', 'X'), ('she', 'PRON'), ('left', 'VERB'), ('the', 'DET'), ('bitterness', 'X'), ('and', 'CONJ'), ('anger', 'X'), ('of', 'ADP'), ('a', 'DET'), ('principal', 'NOUN'), ('who', 'PRON'), ('*T*-81', 'X'), ('was', 'VERB'), ('her', 'PRON'), ('friend', 'NOUN'), ('and', 'CONJ'), ('now', 'ADV'), ('calls', 'X'), ('her', 'PRON'), ('a', 'DET'), ('betrayer', 'X'), (';', '.'), ('of', 'ADP'), ('colleagues', 'NOUN'), ('who', 'PRON'), ('*T*-82', 'X'), ('say', 'VERB'), ('0', 'X'), ('she', 'PRON'), ('brought', 'VERB'), ('them', 'PRON'), ('shame', 'NOUN'), (';', '.'), ('of', 'ADP'), ('students', 'NOUN'), ('and', 'CONJ'), ('parents', 'NOUN'), ('who', 'PRON'), ('*T*-83', 'X'), ('defended', 'VERB'), ('her', 'PRON'), ('and', 'CONJ'), ('insist', 'VERB'), ('0', 'X'), ('she', 'PRON'), ('was', 'VERB'), ('treated', 'X'), ('*-1', 'X'), ('harshly', 'X'), (';', '.'), ('and', 'CONJ'), ('of', 'ADP'), ('school-district', 'X'), ('officials', 'NOUN'), ('stunned', 'X'), ('that', 'ADP'), ('despite', 'ADP'), ('the', 'DET'), ('bald-faced', 'X'), ('nature', 'X'), ('of', 'ADP'), ('her', 'PRON'), ('actions', 'NOUN'), (',', '.'), ('she', 'PRON'), ('became', 'VERB'), ('something', 'NOUN'), ('of', 'ADP'), ('a', 'DET'), ('local', 'ADJ'), ('martyr', 'X'), ('.', '.'), ('At', 'ADP'), ('night', 'X'), ('he', 'PRON'), ('returns', 'NOUN'), ('to', 'PRT'), ('the', 'DET'), ('condemned', 'X'), ('building', 'NOUN'), ('0', 'X'), ('he', 'PRON'), ('calls', 'X'), ('*T*-1', 'X'), ('home', 'NOUN'), ('.', '.'), ('In', 'ADP'), ('a', 'DET'), ('separate', 'X'), ('report', 'VERB'), (',', '.'), ('the', 'DET'), ('department', 'NOUN'), ('said', 'VERB'), ('0', 'X'), ('construction', 'NOUN'), ('spending', 'NOUN'), ('ran', 'VERB'), ('at', 'ADP'), ('an', 'DET'), ('annual', 'ADJ'), ('rate', 'NOUN'), ('of', 'ADP'), ('$', '.'), ('415.6', 'X'), ('billion', 'NUM'), ('*U*', 'X'), (',', '.'), ('not', 'ADV'), ('significantly', 'X'), ('different', 'ADJ'), ('from', 'ADP'), ('the', 'DET'), ('$', '.'), ('415.8', 'X'), ('billion', 'NUM'), ('*U*', 'X'), ('reported', 'VERB'), ('*', 'X'), ('for', 'ADP'), ('August', 'NOUN'), ('.', '.'), ('The', 'DET'), ('restaurant', 'X'), ('operator', 'X'), ('said', 'VERB'), ('0', 'X'), ('it', 'PRON'), ('has', 'VERB'), ('redeemed', 'X'), ('its', 'PRON'), ('rights', 'NOUN'), ('issued', 'VERB'), ('*', 'X'), ('Monday', 'NOUN'), ('under', 'ADP'), ('its', 'PRON'), ('shareholder', 'NOUN'), ('rights', 'NOUN'), ('plan', 'NOUN'), ('.', '.'), ('U.S.', 'NOUN'), ('trade', 'NOUN'), ('negotiators', 'X'), ('argue', 'VERB'), ('that', 'ADP'), ('countries', 'NOUN'), ('with', 'ADP'), ('inadequate', 'X'), ('protections', 'X'), ('for', 'ADP'), ('intellectual-property', 'ADJ'), ('rights', 'NOUN'), ('could', 'VERB'), ('be', 'VERB'), ('hurting', 'X'), ('themselves', 'PRON'), ('by', 'ADP'), ('*-1', 'X'), ('discouraging', 'X'), ('their', 'PRON'), ('own', 'ADJ'), ('scientists', 'NOUN'), ('and', 'CONJ'), ('authors', 'NOUN'), ('and', 'CONJ'), ('by', 'ADP'), ('*-1', 'X'), ('deterring', 'X'), ('U.S.', 'NOUN'), ('high-technology', 'X'), ('firms', 'NOUN'), ('from', 'ADP'), ('*-2', 'X'), ('investing', 'X'), ('or', 'CONJ'), ('marketing', 'NOUN'), ('their', 'PRON'), ('best', 'ADJ'), ('products', 'NOUN'), ('there', 'DET'), ('.', '.'), ('Most', 'X'), ('of', 'ADP'), ('the', 'DET'), ('picture', 'NOUN'), ('is', 'VERB'), ('taken', 'X'), ('up', 'PRT'), ('with', 'ADP'), ('endless', 'X'), ('scenes', 'X'), ('of', 'ADP'), ('many', 'ADJ'), ('people', 'NOUN'), ('either', 'ADV'), ('fighting', 'X'), ('or', 'CONJ'), ('eating', 'X'), ('and', 'CONJ'), ('drinking', 'X'), ('*-1', 'X'), ('to', 'PRT'), ('celebrate', 'X'), ('victory', 'NOUN'), ('.', '.'), ('Dallas', 'X'), ('District', 'NOUN'), ('Judge', 'NOUN'), ('Jack', 'X'), ('Hampton', 'NOUN'), ('had', 'VERB'), ('sparked', 'X'), ('calls', 'X'), ('for', 'ADP'), ('a', 'DET'), ('judicial', 'ADJ'), ('inquiry', 'X'), ('with', 'ADP'), ('his', 'PRON'), ('remarks', 'X'), ('to', 'PRT'), ('the', 'DET'), ('press', 'NOUN'), ('last', 'ADJ'), ('December', 'X'), (',', '.'), ('two', 'NUM'), ('weeks', 'NOUN'), ('after', 'ADP'), ('*-1', 'X'), ('sentencing', 'X'), ('an', 'DET'), ('18-year-old', 'X'), ('defendant', 'X'), ('to', 'PRT'), ('30', 'NUM'), ('years', 'NOUN'), ('in', 'ADP'), ('state', 'NOUN'), ('prison', 'NOUN'), ('for', 'ADP'), ('*-2', 'X'), ('killing', 'X'), ('two', 'NUM'), ('homosexual', 'NOUN'), ('men', 'NOUN'), ('in', 'ADP'), ('a', 'DET'), ('city', 'NOUN'), ('park', 'X'), ('.', '.'), ('Japanese', 'ADJ'), ('investors', 'NOUN'), ('nearly', 'ADV'), ('single-handedly', 'X'), ('bought', 'X'), ('up', 'PRT'), ('two', 'NUM'), ('new', 'ADJ'), ('mortgage', 'NOUN'), ('securities-based', 'X'), ('mutual', 'ADJ'), ('funds', 'NOUN'), ('totaling', 'X'), ('$', '.'), ('701', 'X'), ('million', 'NUM'), ('*U*', 'X'), (',', '.'), ('the', 'DET'), ('U.S.', 'NOUN'), ('Federal', 'NOUN'), ('National', 'NOUN'), ('Mortgage', 'NOUN'), ('Association', 'NOUN'), ('said', 'VERB'), ('0', 'X'), ('*T*-1', 'X'), ('.', '.'), ('I', 'PRON'), ('loved', 'VERB'), ('the', 'DET'), ('school', 'NOUN'), (',', '.'), ('its', 'PRON'), ('history', 'NOUN'), ('.', '.'), ('Nevertheless', 'X'), (',', '.'), ('said', 'VERB'), ('*T*-1', 'X'), ('Brenda', 'X'), ('Malizia', 'X'), ('Negus', 'X'), (',', '.'), ('editor', 'NOUN'), ('of', 'ADP'), ('Money', 'NOUN'), ('Fund', 'NOUN'), ('Report', 'NOUN'), (',', '.'), ('yields', 'NOUN'), ('``', '.'), ('may', 'VERB'), ('blip', 'X'), ('up', 'PRT'), ('again', 'ADV'), ('before', 'ADV'), ('they', 'PRON'), ('blip', 'X'), ('down', 'PRT'), (\"''\", '.'), ('because', 'ADP'), ('of', 'ADP'), ('recent', 'ADJ'), ('rises', 'X'), ('in', 'ADP'), ('short-term', 'ADJ'), ('interest', 'NOUN'), ('rates', 'NOUN'), ('.', '.'), ('That', 'DET'), ('year', 'NOUN'), ('the', 'DET'), ('Apple', 'NOUN'), ('II', 'NOUN'), (',', '.'), ('Commodore', 'X'), ('Pet', 'X'), ('and', 'CONJ'), ('Tandy', 'X'), ('TRS-80', 'X'), ('came', 'VERB'), ('to', 'PRT'), ('market', 'NOUN'), ('.', '.'), ('Pacific', 'NOUN'), ('First', 'NOUN'), ('Financial', 'NOUN'), ('Corp.', 'NOUN'), ('said', 'VERB'), ('0', 'X'), ('shareholders', 'NOUN'), ('approved', 'VERB'), ('its', 'PRON'), ('acquisition', 'NOUN'), ('by', 'ADP'), ('Royal', 'X'), ('Trustco', 'X'), ('Ltd.', 'NOUN'), ('of', 'ADP'), ('Toronto', 'NOUN'), ('for', 'ADP'), ('$', '.'), ('27', 'NUM'), ('*U*', 'X'), ('a', 'DET'), ('share', 'NOUN'), (',', '.'), ('or', 'CONJ'), ('$', '.'), ('212', 'X'), ('million', 'NUM'), ('*U*', 'X'), ('.', '.')]\n"
     ]
    }
   ],
   "source": [
    "tagged_seq = Viterbi_algorithm(test_tagged_words)\n",
    "print(tagged_seq)"
   ]
  },
  {
   "cell_type": "code",
   "execution_count": 19,
   "metadata": {},
   "outputs": [
    {
     "name": "stdout",
     "output_type": "stream",
     "text": [
      "The accuracy of Viterbi Algorithm is - 0.8196078431372549\n"
     ]
    }
   ],
   "source": [
    "# Calculating the accuracy of the vanilla viterbi algorithm\n",
    "\n",
    "check = [i for i, j in zip(tagged_seq, test_run_base) if i == j]\n",
    "\n",
    "acc = len(check)/len(tagged_seq)\n",
    "\n",
    "print(\"The accuracy of Viterbi Algorithm is -\", acc)"
   ]
  },
  {
   "cell_type": "code",
   "execution_count": 20,
   "metadata": {},
   "outputs": [
    {
     "name": "stdout",
     "output_type": "stream",
     "text": [
      "[('The', 'DET'), ('company', 'NOUN'), ('opened', 'VERB'), ('in', 'ADP'), ('July', 'NOUN')]\n"
     ]
    }
   ],
   "source": [
    "# Testing on random sentence\n",
    "\n",
    "pos_result = Viterbi_algorithm(['The', 'company', 'opened', 'in', 'July'])\n",
    "print(pos_result)"
   ]
  },
  {
   "cell_type": "markdown",
   "metadata": {},
   "source": [
    "## Modifing algorithm to handle unknown words\n",
    "If a word is not present in the training vocabulary (unknown word), its emission probability will be ZERO. In that case the state probability will inturn be zero. Thus in cases where the algorithm encounters a word which it has not see previously, we can omit the emission probability and only consider the transition probability.\n",
    "\n",
    "The modified algorithm -\n",
    "\n",
    "- If(word in unknown) then\n",
    "    - consider only the transition_p (emission probability being 0)\n",
    "- else\n",
    "    - consider both the emission and transition probability."
   ]
  },
  {
   "cell_type": "code",
   "execution_count": 21,
   "metadata": {},
   "outputs": [],
   "source": [
    "def Viterbi_for_Unknown_Words(words, train_bag = train_pairs):\n",
    "    state = []\n",
    "    T = list(set([pair[1] for pair in train_bag]))\n",
    "    \n",
    "    for key, word in enumerate(words):\n",
    "        #initialise list of probability column for a given observation\n",
    "        p = [] \n",
    "        for tag in T:\n",
    "            if key == 0:\n",
    "                transition_p = transition_df.loc['.', tag]\n",
    "            else:\n",
    "                transition_p = transition_df.loc[state[-1], tag]\n",
    "                \n",
    "            # compute emission and state probabilities\n",
    "            emission_p = calc_emmision_probability(words[key], tag)[0]/calc_emmision_probability(words[key], tag)[1]\n",
    "            \n",
    "            # modification to the original vanilla viterbi algorithm \n",
    "            # to consider unknown words\n",
    "            if word not in training_vocabulary_set:\n",
    "                state_probability = transition_p\n",
    "            else:\n",
    "                state_probability = emission_p * transition_p\n",
    "                \n",
    "            p.append(state_probability)\n",
    "            \n",
    "        pmax = max(p)\n",
    "        # getting state for which probability is maximum\n",
    "        state_max = T[p.index(pmax)] \n",
    "        state.append(state_max)\n",
    "    return list(zip(words, state))"
   ]
  },
  {
   "cell_type": "code",
   "execution_count": 22,
   "metadata": {},
   "outputs": [],
   "source": [
    "# tagging the test sentences\n",
    "unknown_word_tagged_seq = Viterbi_for_Unknown_Words(test_tagged_words)"
   ]
  },
  {
   "cell_type": "code",
   "execution_count": 23,
   "metadata": {},
   "outputs": [
    {
     "name": "stdout",
     "output_type": "stream",
     "text": [
      "The accuracy of the Vanilla Viterbi Algorithm after modification to handle unknown words is - 0.8941176470588236\n"
     ]
    }
   ],
   "source": [
    "# Calculating accuracy\n",
    "unknown_word_check = [i for i, j in zip(unknown_word_tagged_seq, test_run_base) if i == j]\n",
    "\n",
    "optimized_viterbi_accuracy = len(unknown_word_check)/len(unknown_word_tagged_seq)\n",
    "\n",
    "print(\"The accuracy of the Vanilla Viterbi Algorithm after modification to handle unknown words is -\", optimized_viterbi_accuracy)"
   ]
  }
 ],
 "metadata": {
  "kernelspec": {
   "display_name": "Python 3",
   "language": "python",
   "name": "python3"
  },
  "language_info": {
   "codemirror_mode": {
    "name": "ipython",
    "version": 3
   },
   "file_extension": ".py",
   "mimetype": "text/x-python",
   "name": "python",
   "nbconvert_exporter": "python",
   "pygments_lexer": "ipython3",
   "version": "3.8.3"
  }
 },
 "nbformat": 4,
 "nbformat_minor": 4
}
